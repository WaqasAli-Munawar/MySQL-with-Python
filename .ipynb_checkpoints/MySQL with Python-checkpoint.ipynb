{
 "cells": [
  {
   "cell_type": "markdown",
   "metadata": {},
   "source": [
    "In this file, we will learn to create & manipulate databases. We will also learn some operations on handling databases in **MySQL**. \n",
    "* We need to download and install **MySQL** from [here](https://www.mysql.com/downloads/). Watch [video](https://www.youtube.com/watch?v=OM4aZJW_Ojs) for step by step installation\n",
    "* After installing **MySQL** we also need server to use it with Python.\n",
    "* `mysql.connector` will provide us the features as a server to our python script, we can download it from [here](https://dev.mysql.com/downloads/connector/python/)."
   ]
  },
  {
   "cell_type": "markdown",
   "metadata": {},
   "source": [
    "### Connecting MySQL with Python\n",
    "\n",
    "If we have installed **MySQl** in our systems, we must have our username and password. We need to use these in our python script to connect it with **MySQL**."
   ]
  },
  {
   "cell_type": "code",
   "execution_count": 1,
   "metadata": {},
   "outputs": [],
   "source": [
    "# !pip install mysql --user"
   ]
  },
  {
   "cell_type": "code",
   "execution_count": 2,
   "metadata": {},
   "outputs": [],
   "source": [
    "# !pip uninstall mysql-connector"
   ]
  },
  {
   "cell_type": "code",
   "execution_count": 3,
   "metadata": {},
   "outputs": [],
   "source": [
    "# !pip uninstall mysql-connector-python"
   ]
  },
  {
   "cell_type": "code",
   "execution_count": 4,
   "metadata": {},
   "outputs": [
    {
     "name": "stdout",
     "output_type": "stream",
     "text": [
      "Requirement already satisfied: mysql-connector-python in c:\\programdata\\anaconda3\\lib\\site-packages (8.0.25)\n",
      "Requirement already satisfied: protobuf>=3.0.0 in c:\\programdata\\anaconda3\\lib\\site-packages (from mysql-connector-python) (3.14.0)\n",
      "Requirement already satisfied: six>=1.9 in c:\\programdata\\anaconda3\\lib\\site-packages (from protobuf>=3.0.0->mysql-connector-python) (1.15.0)\n"
     ]
    }
   ],
   "source": [
    "# !pip install mysql-connector-python-rf\n",
    "!pip install mysql-connector-python"
   ]
  },
  {
   "cell_type": "code",
   "execution_count": 5,
   "metadata": {},
   "outputs": [],
   "source": [
    "## Connecting to the database\n",
    "## importing 'mysql.connector' as mysql for convenient\n",
    "import mysql.connector as mysql"
   ]
  },
  {
   "cell_type": "code",
   "execution_count": 7,
   "metadata": {},
   "outputs": [
    {
     "name": "stdout",
     "output_type": "stream",
     "text": [
      "<mysql.connector.connection.MySQLConnection object at 0x0000013A31846A48>\n"
     ]
    }
   ],
   "source": [
    "## connecting to the database using 'connect()' method\n",
    "## it takes 3 required parameters 'host', 'user', 'passwd'\n",
    "db = mysql.connect(\n",
    "    host = \"localhost\",\n",
    "    user = \"root\",\n",
    "    password = \"waqas1986\")\n",
    "\n",
    "print(db) # it will print a connection object if everything is fine"
   ]
  },
  {
   "cell_type": "markdown",
   "metadata": {},
   "source": [
    "In this way we can connect MySQL with Python.\n",
    "* Watch [video](https://www.youtube.com/watch?v=Ygis_0DKKMg) if we get `Authentication plugin 'caching_sha2_password' is not supported` error"
   ]
  },
  {
   "cell_type": "markdown",
   "metadata": {},
   "source": [
    "### Creating Database\n",
    "\n",
    "In **MySQL**, we need to create a Database using a command `CREATE DATABASE DATABASE NAME`. Now lets see how we can create a database using python:"
   ]
  },
  {
   "cell_type": "code",
   "execution_count": 8,
   "metadata": {},
   "outputs": [],
   "source": [
    "## creating an instance of 'cursor' class which is used to execute the 'SQL' statements in 'Python'\n",
    "cursor = db.cursor()\n",
    "\n",
    "## creating a databse called 'datascience'\n",
    "## 'execute()' method is used to compile a 'SQL' statement\n",
    "cursor.execute(\"CREATE DATABASE datascience\")"
   ]
  },
  {
   "cell_type": "markdown",
   "metadata": {},
   "source": [
    "Make sure whenever we create a new database, it should be with a unique name, otherwise it will give an error. To see all the databases that we have created using a command `SHOW DATABASES` :"
   ]
  },
  {
   "cell_type": "code",
   "execution_count": 10,
   "metadata": {},
   "outputs": [
    {
     "name": "stdout",
     "output_type": "stream",
     "text": [
      "[('datascience',), ('information_schema',), ('mysql',), ('performance_schema',), ('sys',)]\n"
     ]
    }
   ],
   "source": [
    "cursor.execute(\"SHOW DATABASES\")\n",
    "\n",
    "## 'fetchall()' method fetches all the rows from the last executed statement\n",
    "databases = cursor.fetchall() ## it returns a list of all databases present\n",
    "\n",
    "## printing the list of databases\n",
    "print(databases)"
   ]
  },
  {
   "cell_type": "code",
   "execution_count": 11,
   "metadata": {},
   "outputs": [
    {
     "name": "stdout",
     "output_type": "stream",
     "text": [
      "('datascience',)\n",
      "('information_schema',)\n",
      "('mysql',)\n",
      "('performance_schema',)\n",
      "('sys',)\n"
     ]
    }
   ],
   "source": [
    "## showing one by one database\n",
    "for database in databases:\n",
    "    print(database)"
   ]
  },
  {
   "cell_type": "markdown",
   "metadata": {},
   "source": [
    "### Creating Tables in MySQL Database\n",
    "\n",
    "We make tables in a database to store information. To create a table we need to select a database from all the databases that we have build in our system. \n",
    "* We will select the database that we just created above as **datascience**:"
   ]
  },
  {
   "cell_type": "code",
   "execution_count": 12,
   "metadata": {},
   "outputs": [],
   "source": [
    "db = mysql.connect(\n",
    "    host = \"localhost\",\n",
    "    user = \"root\",\n",
    "    passwd = \"waqas1986\",\n",
    "    database = \"datascience\"\n",
    ")"
   ]
  },
  {
   "cell_type": "markdown",
   "metadata": {},
   "source": [
    "Now we will Create a New Table in our database"
   ]
  },
  {
   "cell_type": "code",
   "execution_count": 13,
   "metadata": {},
   "outputs": [],
   "source": [
    "cursor = db.cursor()\n",
    "\n",
    "## creating a table called 'users' in the 'datascience' database\n",
    "cursor.execute(\"CREATE TABLE users (name VARCHAR(255), user_name VARCHAR(255))\")"
   ]
  },
  {
   "cell_type": "markdown",
   "metadata": {},
   "source": [
    "`VARCHAR` means **variable character**. It is a datatype used in MySQL. We need to give number of predefined spaces, that we think will be the length of the each entry in the table.\n",
    "\n",
    "The most commonly used datatypes used in MySQL are – \n",
    "* Integer, \n",
    "* Char, \n",
    "* Varchar, \n",
    "* Float, and \n",
    "* Date. "
   ]
  },
  {
   "cell_type": "code",
   "execution_count": 14,
   "metadata": {},
   "outputs": [
    {
     "name": "stdout",
     "output_type": "stream",
     "text": [
      "('users',)\n"
     ]
    }
   ],
   "source": [
    "# see tables in database\n",
    "\n",
    "cursor.execute(\"SHOW TABLES\")\n",
    "\n",
    "tables = cursor.fetchall() ## it returns list of tables present in the database\n",
    "\n",
    "# showing all the tables one by one\n",
    "for table in tables:\n",
    "    print(table)"
   ]
  },
  {
   "cell_type": "markdown",
   "metadata": {},
   "source": [
    "### Primary Key\n",
    "\n",
    "**Primary key** is a column in a table, that can become a column of unique values in the table, for example – Admission number, enrollment number, id number, and so on. Now let’s see how we can make a primary key in a table:"
   ]
  },
  {
   "cell_type": "code",
   "execution_count": 15,
   "metadata": {},
   "outputs": [],
   "source": [
    "## first we have to 'drop' the table which has already created to create it again with the 'PRIMARY KEY'\n",
    "## 'DROP TABLE table_name' statement will drop the table from a database\n",
    "cursor.execute(\"DROP TABLE users\")\n",
    "\n",
    "## creating the 'users' table again with the 'PRIMARY KEY'\n",
    "cursor.execute(\"\"\"CREATE TABLE users (id INT(11) NOT NULL AUTO_INCREMENT PRIMARY KEY, \n",
    "               name VARCHAR(255), \n",
    "               user_name VARCHAR(255))\"\"\")"
   ]
  },
  {
   "cell_type": "markdown",
   "metadata": {},
   "source": [
    "### Inserting Data in a Table\n",
    "\n",
    "To insert data into a table `INSERT INTO Table Name(Column Name) VALUES (Entry)` command is used. Now let’s see how we can execute this statement with python:"
   ]
  },
  {
   "cell_type": "code",
   "execution_count": 16,
   "metadata": {},
   "outputs": [
    {
     "name": "stdout",
     "output_type": "stream",
     "text": [
      "1 record inserted\n"
     ]
    }
   ],
   "source": [
    "## defining the Query\n",
    "query = \"INSERT INTO users (name, user_name) VALUES (%s, %s)\"\n",
    "\n",
    "## storing values in a variable\n",
    "values = (\"Hafeez\", \"hafeez\")\n",
    "\n",
    "## executing the query with values\n",
    "cursor.execute(query, values)\n",
    "\n",
    "## to make final output we have to run the 'commit()' method of the database object\n",
    "db.commit()\n",
    "\n",
    "print(cursor.rowcount, \"record inserted\")"
   ]
  },
  {
   "cell_type": "markdown",
   "metadata": {},
   "source": [
    "Above code inserted one record in the table. Lets see how can we insert multiple records in the table:"
   ]
  },
  {
   "cell_type": "code",
   "execution_count": 17,
   "metadata": {},
   "outputs": [
    {
     "name": "stdout",
     "output_type": "stream",
     "text": [
      "4 records inserted\n"
     ]
    }
   ],
   "source": [
    "## defining the Query\n",
    "query = \"INSERT INTO users (name, user_name) VALUES (%s, %s)\"\n",
    "\n",
    "## storing values in a variable\n",
    "values = [\n",
    "    (\"Peter\", \"peter\"),\n",
    "    (\"Amy\", \"amy\"),\n",
    "    (\"Michael\", \"michael\"),\n",
    "    (\"Hennah\", \"hennah\")\n",
    "]\n",
    "\n",
    "## executing the query with values\n",
    "cursor.executemany(query, values)\n",
    "\n",
    "## to make final output we have to run the 'commit()' method of the database object\n",
    "db.commit()\n",
    "\n",
    "print(cursor.rowcount, \"records inserted\")"
   ]
  },
  {
   "cell_type": "markdown",
   "metadata": {},
   "source": [
    "### Select Data From Table\n",
    "\n",
    "To select the data from the table `SELECT column name FROM table name` command is used. But if we want to see all the data rather than a particular column then `SELECT * FROM table name` command is used. Now let’s have a look at all the records in the table:"
   ]
  },
  {
   "cell_type": "code",
   "execution_count": 18,
   "metadata": {},
   "outputs": [
    {
     "name": "stdout",
     "output_type": "stream",
     "text": [
      "(1, 'Hafeez', 'hafeez')\n",
      "(2, 'Peter', 'peter')\n",
      "(3, 'Amy', 'amy')\n",
      "(4, 'Michael', 'michael')\n",
      "(5, 'Hennah', 'hennah')\n"
     ]
    }
   ],
   "source": [
    "## defining the Query\n",
    "query = \"SELECT * FROM users\"\n",
    "\n",
    "## getting records from the table\n",
    "cursor.execute(query)\n",
    "\n",
    "## fetching all records from the 'cursor' object\n",
    "records = cursor.fetchall()\n",
    "\n",
    "## Showing the data\n",
    "for record in records:\n",
    "    print(record)"
   ]
  },
  {
   "cell_type": "markdown",
   "metadata": {},
   "source": [
    "To select data from a particular column:"
   ]
  },
  {
   "cell_type": "code",
   "execution_count": 19,
   "metadata": {},
   "outputs": [
    {
     "name": "stdout",
     "output_type": "stream",
     "text": [
      "('hafeez',)\n",
      "('peter',)\n",
      "('amy',)\n",
      "('michael',)\n",
      "('hennah',)\n"
     ]
    }
   ],
   "source": [
    "## defining the Query\n",
    "query = \"SELECT user_name FROM users\"\n",
    "\n",
    "## getting 'user_name' column from the table\n",
    "cursor.execute(query)\n",
    "\n",
    "## fetching all usernames from the 'cursor' object\n",
    "usernames = cursor.fetchall()\n",
    "\n",
    "## Showing the data\n",
    "for username in usernames:\n",
    "    print(username)"
   ]
  },
  {
   "cell_type": "markdown",
   "metadata": {},
   "source": [
    "Select data from more than one column:"
   ]
  },
  {
   "cell_type": "code",
   "execution_count": 20,
   "metadata": {},
   "outputs": [
    {
     "name": "stdout",
     "output_type": "stream",
     "text": [
      "('Hafeez', 'hafeez')\n",
      "('Peter', 'peter')\n",
      "('Amy', 'amy')\n",
      "('Michael', 'michael')\n",
      "('Hennah', 'hennah')\n"
     ]
    }
   ],
   "source": [
    "## defining the Query\n",
    "query = \"SELECT name, user_name FROM users\"\n",
    "\n",
    "## getting 'name', 'user_name' columns from the table\n",
    "cursor.execute(query)\n",
    "\n",
    "## fetching all records from the 'cursor' object\n",
    "data = cursor.fetchall()\n",
    "\n",
    "## Showing the data\n",
    "for pair in data:\n",
    "    print(pair)"
   ]
  },
  {
   "cell_type": "markdown",
   "metadata": {},
   "source": [
    "### `Where` Command in MySQL with Python\n",
    "\n",
    "`Where` command is one of the most used commands in **MySQL**. It is used to select the data on the basis on any condition. While doing analysis `Where` command is highly used as compared to all other commands. Let’s have a look how we can use a `Where` Command:"
   ]
  },
  {
   "cell_type": "code",
   "execution_count": 21,
   "metadata": {},
   "outputs": [
    {
     "name": "stdout",
     "output_type": "stream",
     "text": [
      "(5, 'Hennah', 'hennah')\n"
     ]
    }
   ],
   "source": [
    "## defining the Query\n",
    "query = \"SELECT * FROM users WHERE id = 5\"\n",
    "\n",
    "## getting records from the table\n",
    "cursor.execute(query)\n",
    "\n",
    "## fetching all records from the 'cursor' object\n",
    "records = cursor.fetchall()\n",
    "\n",
    "## Showing the data\n",
    "for record in records:\n",
    "    print(record)"
   ]
  },
  {
   "cell_type": "markdown",
   "metadata": {},
   "source": [
    "We can use the the `Where` command by specifying the conditions on the basis of our data."
   ]
  },
  {
   "cell_type": "markdown",
   "metadata": {},
   "source": [
    "### `Update` Command\n",
    "\n",
    "The Update command is used to update the records of our table. Let’s have a look how we can use an `Update` command:"
   ]
  },
  {
   "cell_type": "code",
   "execution_count": 22,
   "metadata": {},
   "outputs": [],
   "source": [
    "## defining the Query\n",
    "query = \"UPDATE users SET name = 'Kareem' WHERE id = 1\"\n",
    "\n",
    "## executing the query\n",
    "cursor.execute(query)\n",
    "\n",
    "## final step to tell the database that we have changed the table data\n",
    "db.commit()"
   ]
  },
  {
   "cell_type": "markdown",
   "metadata": {},
   "source": [
    "Now let’s have a look at the data whether the records are updated or not:"
   ]
  },
  {
   "cell_type": "code",
   "execution_count": 23,
   "metadata": {},
   "outputs": [
    {
     "name": "stdout",
     "output_type": "stream",
     "text": [
      "(1, 'Kareem', 'hafeez')\n",
      "(2, 'Peter', 'peter')\n",
      "(3, 'Amy', 'amy')\n",
      "(4, 'Michael', 'michael')\n",
      "(5, 'Hennah', 'hennah')\n"
     ]
    }
   ],
   "source": [
    "## defining the Query\n",
    "query = \"SELECT * FROM users\"\n",
    "\n",
    "## getting records from the table\n",
    "cursor.execute(query)\n",
    "\n",
    "## fetching all records from the 'cursor' object\n",
    "records = cursor.fetchall()\n",
    "\n",
    "## Showing the data\n",
    "for record in records:\n",
    "    print(record)"
   ]
  },
  {
   "cell_type": "markdown",
   "metadata": {},
   "source": [
    "These were the most useful commands if we are looking to create a database using **MySQL with Python**. We are now ready to use this knowledge in creating our own databases."
   ]
  },
  {
   "cell_type": "code",
   "execution_count": null,
   "metadata": {},
   "outputs": [],
   "source": []
  }
 ],
 "metadata": {
  "kernelspec": {
   "display_name": "Python 3",
   "language": "python",
   "name": "python3"
  },
  "language_info": {
   "codemirror_mode": {
    "name": "ipython",
    "version": 3
   },
   "file_extension": ".py",
   "mimetype": "text/x-python",
   "name": "python",
   "nbconvert_exporter": "python",
   "pygments_lexer": "ipython3",
   "version": "3.7.6"
  }
 },
 "nbformat": 4,
 "nbformat_minor": 4
}
